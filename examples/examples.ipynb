{
 "cells": [
  {
   "cell_type": "code",
   "execution_count": 1,
   "id": "bf07b26c",
   "metadata": {},
   "outputs": [],
   "source": [
    "import numpy as np\n",
    "import matplotlib.pyplot as plt\n",
    "\n",
    "from time_propagator0 import TimePropagator"
   ]
  },
  {
   "cell_type": "code",
   "execution_count": 2,
   "id": "1111afb1",
   "metadata": {},
   "outputs": [],
   "source": [
    "inputs = {\n",
    "    'molecule':'h 0 0 0; h 0 0 1.4',\n",
    "    'final_time':100,\n",
    "    'time_step':0.1,\n",
    "    \n",
    "    'gauge':'length',\n",
    "    'laser_approx':'dipole',\n",
    "    \n",
    "    'sample_dipole_moment':True,\n",
    "    'sample_kinetic_momentum':True,\n",
    "    \n",
    "    'pulses':['p1'],\n",
    "    'p1':{\n",
    "        'pulse_class':'sin_sin2',\n",
    "        'amplitude':0.01,\n",
    "        'omega':0.3,\n",
    "        'ncycles':3,\n",
    "        'polarization':[0,0,1],\n",
    "        'k_direction':[1,0,0],\n",
    "    }\n",
    "}"
   ]
  },
  {
   "cell_type": "code",
   "execution_count": 3,
   "id": "fcb03f25",
   "metadata": {},
   "outputs": [
    {
     "name": "stdout",
     "output_type": "stream",
     "text": [
      "1\n",
      "<class 'int'>\n"
     ]
    },
    {
     "ename": "TypeError",
     "evalue": "object of type 'int' has no len()",
     "output_type": "error",
     "traceback": [
      "\u001b[0;31m---------------------------------------------------------------------------\u001b[0m",
      "\u001b[0;31mTypeError\u001b[0m                                 Traceback (most recent call last)",
      "Input \u001b[0;32mIn [3]\u001b[0m, in \u001b[0;36m<cell line: 1>\u001b[0;34m()\u001b[0m\n\u001b[0;32m----> 1\u001b[0m tp \u001b[38;5;241m=\u001b[39m \u001b[43mTimePropagator\u001b[49m\u001b[43m(\u001b[49m\u001b[38;5;124;43m'\u001b[39;49m\u001b[38;5;124;43mrcis\u001b[39;49m\u001b[38;5;124;43m'\u001b[39;49m\u001b[43m,\u001b[49m\u001b[43minputs\u001b[49m\u001b[38;5;241;43m=\u001b[39;49m\u001b[43minputs\u001b[49m\u001b[43m)\u001b[49m\n\u001b[1;32m      2\u001b[0m tp\u001b[38;5;241m.\u001b[39msetup_quantum_system(\u001b[38;5;124m'\u001b[39m\u001b[38;5;124mpyscf\u001b[39m\u001b[38;5;124m'\u001b[39m)\n\u001b[1;32m      3\u001b[0m tp\u001b[38;5;241m.\u001b[39msetup_ground_state()\n",
      "File \u001b[0;32m~/programs/anaconda3/envs/env1/lib/python3.8/site-packages/time_propagator0/time_propagator.py:157\u001b[0m, in \u001b[0;36mTimePropagator.__init__\u001b[0;34m(self, method, inputs, **kwargs)\u001b[0m\n\u001b[1;32m    154\u001b[0m \u001b[38;5;28mself\u001b[39m\u001b[38;5;241m.\u001b[39mlogger \u001b[38;5;241m=\u001b[39m Logger(log_messages, style)\n\u001b[1;32m    156\u001b[0m \u001b[38;5;28;01mif\u001b[39;00m \u001b[38;5;129;01mnot\u001b[39;00m init_from_output:\n\u001b[0;32m--> 157\u001b[0m     \u001b[38;5;28;43mself\u001b[39;49m\u001b[38;5;241;43m.\u001b[39;49m\u001b[43mlogger\u001b[49m\u001b[38;5;241;43m.\u001b[39;49m\u001b[43mlog\u001b[49m\u001b[43m(\u001b[49m\u001b[38;5;28;43mself\u001b[39;49m\u001b[38;5;241;43m.\u001b[39;49m\u001b[43minputs\u001b[49m\u001b[43m(\u001b[49m\u001b[38;5;124;43m\"\u001b[39;49m\u001b[38;5;124;43mprint_level\u001b[39;49m\u001b[38;5;124;43m\"\u001b[39;49m\u001b[43m)\u001b[49m\u001b[43m,\u001b[49m\u001b[43m \u001b[49m\u001b[43mvalues\u001b[49m\u001b[38;5;241;43m=\u001b[39;49m\u001b[43m[\u001b[49m\u001b[38;5;28;43mself\u001b[39;49m\u001b[38;5;241;43m.\u001b[39;49m\u001b[43minputs\u001b[49m\u001b[43m(\u001b[49m\u001b[38;5;124;43m\"\u001b[39;49m\u001b[38;5;124;43mmethod\u001b[39;49m\u001b[38;5;124;43m\"\u001b[39;49m\u001b[43m)\u001b[49m\u001b[43m]\u001b[49m\u001b[43m)\u001b[49m\n\u001b[1;32m    159\u001b[0m \u001b[38;5;28;01mif\u001b[39;00m init_from_output:\n\u001b[1;32m    160\u001b[0m     \u001b[38;5;28mself\u001b[39m\u001b[38;5;241m.\u001b[39minit_from_output(inputs)\n",
      "File \u001b[0;32m~/programs/anaconda3/envs/env1/lib/python3.8/site-packages/time_propagator0/logger.py:156\u001b[0m, in \u001b[0;36mLogger.log\u001b[0;34m(print_level, name_ext, values, new_lines)\u001b[0m\n\u001b[1;32m    154\u001b[0m \u001b[38;5;28mprint\u001b[39m (name_ext)\n\u001b[1;32m    155\u001b[0m \u001b[38;5;28mprint\u001b[39m (\u001b[38;5;28mtype\u001b[39m(name_ext))\n\u001b[0;32m--> 156\u001b[0m \u001b[38;5;28mprint\u001b[39m (\u001b[38;5;28;43mlen\u001b[39;49m\u001b[43m(\u001b[49m\u001b[43mname_ext\u001b[49m\u001b[43m)\u001b[49m)\n\u001b[1;32m    157\u001b[0m method_name \u001b[38;5;241m+\u001b[39m\u001b[38;5;241m=\u001b[39m \u001b[38;5;124m\"\u001b[39m\u001b[38;5;124m \u001b[39m\u001b[38;5;124m\"\u001b[39m \u001b[38;5;241m+\u001b[39m name_ext \u001b[38;5;28;01mif\u001b[39;00m \u001b[38;5;28mlen\u001b[39m(name_ext) \u001b[38;5;241m>\u001b[39m \u001b[38;5;241m0\u001b[39m \u001b[38;5;28;01melse\u001b[39;00m \u001b[38;5;124m\"\u001b[39m\u001b[38;5;124m\"\u001b[39m\n\u001b[1;32m    158\u001b[0m log_message \u001b[38;5;241m=\u001b[39m \u001b[38;5;28mself\u001b[39m\u001b[38;5;241m.\u001b[39m_log_messages[method_name]\n",
      "\u001b[0;31mTypeError\u001b[0m: object of type 'int' has no len()"
     ]
    }
   ],
   "source": [
    "tp = TimePropagator('rcis',inputs=inputs)\n",
    "tp.setup_quantum_system('pyscf')\n",
    "tp.setup_ground_state()\n",
    "tp.build()\n",
    "output = tp.propagate()"
   ]
  },
  {
   "cell_type": "markdown",
   "id": "9254572c",
   "metadata": {},
   "source": [
    "# Simplified setup"
   ]
  },
  {
   "cell_type": "code",
   "execution_count": null,
   "id": "ccc9e3ec",
   "metadata": {},
   "outputs": [],
   "source": [
    "tp = TimePropagator('rcis',inputs=inputs)\n",
    "tp.build()\n",
    "output = tp.propagate()"
   ]
  },
  {
   "cell_type": "code",
   "execution_count": null,
   "id": "d71b6b90",
   "metadata": {},
   "outputs": [],
   "source": [
    "print (output.keys())"
   ]
  },
  {
   "cell_type": "code",
   "execution_count": null,
   "id": "8232c741",
   "metadata": {},
   "outputs": [],
   "source": [
    "samples = output['samples']\n",
    "\n",
    "d = samples['dipole_moment']\n",
    "t = samples['time_points']\n",
    "\n",
    "print (output['log'])\n",
    "\n",
    "plt.plot(t,d[:,2].real)\n",
    "plt.show()"
   ]
  },
  {
   "cell_type": "markdown",
   "id": "e047dd47",
   "metadata": {},
   "source": [
    "# Extend run"
   ]
  },
  {
   "cell_type": "code",
   "execution_count": null,
   "id": "ead02d86",
   "metadata": {},
   "outputs": [],
   "source": [
    "tp = TimePropagator('rcis',inputs=output,final_time=200)\n",
    "tp.build()\n",
    "\n",
    "output2 = tp.propagate()"
   ]
  },
  {
   "cell_type": "code",
   "execution_count": null,
   "id": "d56c3784",
   "metadata": {},
   "outputs": [],
   "source": [
    "samples2 = output2['samples']\n",
    "\n",
    "d2 = samples2['dipole_moment']\n",
    "t2 = samples2['time_points']\n",
    "\n",
    "print (output2['log'])\n",
    "\n",
    "plt.plot(t2,d2[:,2].real)\n",
    "plt.plot(t,d[:,2].real,'--')\n",
    "plt.show()"
   ]
  },
  {
   "cell_type": "markdown",
   "id": "29addda2",
   "metadata": {},
   "source": [
    "# Add pulse"
   ]
  },
  {
   "cell_type": "code",
   "execution_count": null,
   "id": "a7d90add",
   "metadata": {},
   "outputs": [],
   "source": [
    "p2 = {\n",
    "        'pulse_class':'sin_sin2',\n",
    "        'amplitude':0.005,\n",
    "        'omega':0.1,\n",
    "        'ncycles':2,\n",
    "        't0':100,\n",
    "        'polarization':[0,0,1],\n",
    "     }\n",
    "\n",
    "tp = TimePropagator('rcis',inputs=output,final_time=300)\n",
    "tp.add_pulse('p2',p2)\n",
    "tp.build()\n",
    "\n",
    "output3 = tp.propagate()"
   ]
  },
  {
   "cell_type": "code",
   "execution_count": null,
   "id": "c59de5f5",
   "metadata": {},
   "outputs": [],
   "source": [
    "samples3 = output3['samples']\n",
    "\n",
    "d3 = samples3['dipole_moment']\n",
    "t3 = samples3['time_points']\n",
    "\n",
    "plt.plot(t3,d3[:,2].real)\n",
    "plt.plot(t,d[:,2].real,'--')\n",
    "plt.show()"
   ]
  },
  {
   "cell_type": "markdown",
   "id": "89a75259",
   "metadata": {},
   "source": [
    "# Checkpoints"
   ]
  },
  {
   "cell_type": "code",
   "execution_count": null,
   "id": "87781e62",
   "metadata": {},
   "outputs": [],
   "source": [
    "tp = TimePropagator('rcis',inputs=inputs,checkpoint=400)\n",
    "tp.build()\n",
    "\n",
    "output4 = tp.propagate()"
   ]
  },
  {
   "cell_type": "code",
   "execution_count": null,
   "id": "d1074d27",
   "metadata": {},
   "outputs": [],
   "source": [
    "samples4 = output4['samples']\n",
    "\n",
    "d4 = samples4['dipole_moment']\n",
    "t4 = samples4['time_points']\n",
    "\n",
    "plt.plot(t4,d4[:,2])\n",
    "plt.show()"
   ]
  },
  {
   "cell_type": "markdown",
   "id": "70df83ca",
   "metadata": {},
   "source": [
    "# Continue run from a checkpoint"
   ]
  },
  {
   "cell_type": "code",
   "execution_count": null,
   "id": "3bbd803a",
   "metadata": {},
   "outputs": [],
   "source": [
    "tp = TimePropagator('rcis',inputs='tp_ckpt_800.npz')\n",
    "tp.build()\n",
    "\n",
    "output5 = tp.propagate()"
   ]
  },
  {
   "cell_type": "code",
   "execution_count": null,
   "id": "bd4a462a",
   "metadata": {},
   "outputs": [],
   "source": [
    "samples5 = output5['samples']\n",
    "\n",
    "d5 = samples5['dipole_moment']\n",
    "t5 = samples5['time_points']\n",
    "\n",
    "\n",
    "plt.plot(t4,d4[:,2].real)\n",
    "plt.plot(t5,d5[:,2].real,'--')\n",
    "plt.show()"
   ]
  },
  {
   "cell_type": "markdown",
   "id": "144e2d97",
   "metadata": {},
   "source": [
    "# Laser approximations"
   ]
  },
  {
   "cell_type": "code",
   "execution_count": null,
   "id": "c6e037c1",
   "metadata": {},
   "outputs": [],
   "source": [
    "#dipole approximation\n",
    "tp = TimePropagator('rcis',inputs=inputs,gauge='velocity')\n",
    "tp.build()\n",
    "output6 = tp.propagate()\n",
    "\n",
    "#plane waves\n",
    "tp = TimePropagator('rcis',inputs=inputs,gauge='velocity',laser_approx='plane_wave')\n",
    "tp.build()\n",
    "output7 = tp.propagate()"
   ]
  },
  {
   "cell_type": "code",
   "execution_count": null,
   "id": "9f6782e1",
   "metadata": {},
   "outputs": [],
   "source": [
    "samples6 = output6['samples']\n",
    "\n",
    "d6 = samples6['dipole_moment']\n",
    "t6 = samples6['time_points']\n",
    "\n",
    "samples7 = output7['samples']\n",
    "\n",
    "d7 = samples7['dipole_moment']\n",
    "t7 = samples7['time_points']\n",
    "\n",
    "plt.plot(t6,d6[:,2].real)\n",
    "plt.plot(t7,d7[:,2].real,'--')\n",
    "plt.show()\n",
    "\n",
    "plt.plot(t6,d6[:,0].real)\n",
    "plt.plot(t7,d7[:,0].real,'--')\n",
    "plt.show()"
   ]
  },
  {
   "cell_type": "markdown",
   "id": "ed48df3c",
   "metadata": {},
   "source": [
    "# CC projectors"
   ]
  },
  {
   "cell_type": "code",
   "execution_count": null,
   "id": "bc171a31",
   "metadata": {},
   "outputs": [],
   "source": [
    "inputs_projectors = {\n",
    "    'molecule':'h 0 0 0; h 0 0 1.4',\n",
    "    'final_time':20,\n",
    "    'time_step':0.1,\n",
    "    \n",
    "    'gauge':'length',\n",
    "    \n",
    "    'sample_dipole_moment':True,\n",
    "    'sample_kinetic_momentum':True,\n",
    "    'sample_EOM_projectors':True,\n",
    "    \n",
    "    'reference_program':'dalton',\n",
    "    \n",
    "    'pulses':['p1'],\n",
    "    'p1':{\n",
    "        'pulse_class':'sin_sin2',\n",
    "        'amplitude':0.01,\n",
    "        'omega':1.13902514,\n",
    "        'ncycles':3,\n",
    "        'polarization':[0,0,1],\n",
    "    }\n",
    "}\n",
    "\n",
    "\n",
    "tp = TimePropagator('rccsd',inputs=inputs_projectors)\n",
    "tp.build()\n",
    "output8 = tp.propagate()"
   ]
  },
  {
   "cell_type": "code",
   "execution_count": null,
   "id": "0725c20a",
   "metadata": {},
   "outputs": [],
   "source": [
    "samples8 = output8['samples']\n",
    "\n",
    "p8 = samples8['EOM_projectors']\n",
    "t8 = samples8['time_points']\n",
    "\n",
    "\n",
    "n = 5\n",
    "for i in range(n):\n",
    "    plt.plot(t8,p8[:,i].real,label=f'State {i+1}')\n",
    "plt.legend()\n",
    "plt.show()"
   ]
  },
  {
   "cell_type": "markdown",
   "id": "3dfb94a0",
   "metadata": {},
   "source": [
    "# Post processing"
   ]
  },
  {
   "cell_type": "code",
   "execution_count": null,
   "id": "6505af51",
   "metadata": {},
   "outputs": [],
   "source": [
    "from time_propagator0.post_processing import (\n",
    "    transient_dipole_spectrum_de,\n",
    "    transient_dipole_spectrum_pia,\n",
    "    transient_plane_wave_spectrum,\n",
    ")\n",
    "\n",
    "freq1, s1 = transient_dipole_spectrum_pia('ti_romp2_vel_400000.npz')\n",
    "freq2, s2 = transient_plane_wave_spectrum('ti_romp2_vpi_400000.npz')\n",
    "\n",
    "plt.plot(freq1,s1)\n",
    "plt.plot(freq2,s2)\n",
    "\n",
    "plt.axis([180,190,None,None])\n",
    "\n",
    "plt.show()\n",
    "\n",
    "plt.plot(freq1,s1)\n",
    "plt.plot(freq2,s2)\n",
    "\n",
    "plt.axis([181,181.7,-2e-5,1e-4])\n",
    "\n",
    "plt.show()"
   ]
  },
  {
   "cell_type": "code",
   "execution_count": null,
   "id": "0bbef383",
   "metadata": {},
   "outputs": [],
   "source": []
  }
 ],
 "metadata": {
  "kernelspec": {
   "display_name": "Python 3 (ipykernel)",
   "language": "python",
   "name": "python3"
  },
  "language_info": {
   "codemirror_mode": {
    "name": "ipython",
    "version": 3
   },
   "file_extension": ".py",
   "mimetype": "text/x-python",
   "name": "python",
   "nbconvert_exporter": "python",
   "pygments_lexer": "ipython3",
   "version": "3.8.11"
  }
 },
 "nbformat": 4,
 "nbformat_minor": 5
}
